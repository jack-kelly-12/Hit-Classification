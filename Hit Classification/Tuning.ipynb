{
 "cells": [
  {
   "cell_type": "markdown",
   "id": "6653fd82",
   "metadata": {},
   "source": [
    "## Tuning\n",
    "Now that we know the XGB mode performs best, we can hypertune the parameters to squeeze some extra precision and accuracy out of the model"
   ]
  },
  {
   "cell_type": "code",
   "execution_count": 1,
   "id": "19ec6d57",
   "metadata": {},
   "outputs": [],
   "source": [
    "from pybaseball import statcast, cache\n",
    "import pandas as pd\n",
    "import numpy as np\n",
    "import seaborn as sns\n",
    "from sklearn.model_selection import train_test_split\n",
    "from sklearn.metrics import accuracy_score\n",
    "import matplotlib.pyplot as plt\n",
    "from sklearn.metrics import accuracy_score, precision_score, confusion_matrix\n",
    "from xgboost import XGBClassifier\n",
    "from sklearn.preprocessing import LabelEncoder\n",
    "from sklearn.neighbors import KNeighborsClassifier\n",
    "from sklearn.ensemble import RandomForestClassifier\n",
    "from sklearn.svm import SVC\n",
    "from sklearn.preprocessing import LabelEncoder\n",
    "from sklearn.model_selection import RandomizedSearchCV\n",
    "import joblib\n",
    "from tqdm import tqdm\n",
    "cache.enable()"
   ]
  },
  {
   "cell_type": "code",
   "execution_count": 2,
   "id": "9817f687",
   "metadata": {},
   "outputs": [],
   "source": [
    "gb = joblib.load('models/three-feature.joblib')"
   ]
  },
  {
   "cell_type": "code",
   "execution_count": 3,
   "id": "8bda87ee",
   "metadata": {},
   "outputs": [],
   "source": [
    "data = pd.read_csv('data/data.csv')"
   ]
  },
  {
   "cell_type": "code",
   "execution_count": 4,
   "id": "f45096c4",
   "metadata": {},
   "outputs": [],
   "source": [
    "columns = ['events', 'launch_speed', 'launch_angle', 'spray_angle']\n",
    "features = ['launch_speed', 'launch_angle', 'spray_angle']\n",
    "care_about = ['home_run', 'field_out', 'single', 'double', 'triple']\n",
    "filtered_df = data[data['events'].isin(care_about)].loc[:, data.columns.isin(columns)].dropna().reset_index(drop=True)"
   ]
  },
  {
   "cell_type": "markdown",
   "id": "d4f14dcb",
   "metadata": {},
   "source": [
    "Using a 10,000 row subset of the data in order to perform a randomized search to hypertune the parameters..."
   ]
  },
  {
   "cell_type": "code",
   "execution_count": 5,
   "id": "4727d27e",
   "metadata": {},
   "outputs": [],
   "source": [
    "filtered_df_train = filtered_df.iloc[0: 10000]"
   ]
  },
  {
   "cell_type": "code",
   "execution_count": 6,
   "id": "6d8af783",
   "metadata": {},
   "outputs": [],
   "source": [
    "from sklearn.preprocessing import LabelEncoder\n",
    "le = LabelEncoder()\n",
    "\n",
    "y = le.fit_transform(filtered_df_train.events)"
   ]
  },
  {
   "cell_type": "code",
   "execution_count": 7,
   "id": "b35802ed",
   "metadata": {},
   "outputs": [
    {
     "name": "stdout",
     "output_type": "stream",
     "text": [
      "Best Hyperparameters:\n",
      "{'subsample': 0.7999999999999999, 'n_estimators': 150, 'min_child_weight': 1, 'max_depth': 4, 'learning_rate': 0.060000000000000005, 'gamma': 0.1, 'colsample_bytree': 0.9999999999999999}\n"
     ]
    }
   ],
   "source": [
    "param_grid = {\n",
    "    'n_estimators': np.arange(50, 151, 10),\n",
    "    'learning_rate': np.arange(0.01, 0.2, 0.05),\n",
    "    'max_depth': np.arange(3, 8),\n",
    "    'min_child_weight': np.arange(1, 6),\n",
    "    'gamma': np.arange(0, 0.5, 0.1),\n",
    "    'subsample': np.arange(0.7, 1.0, 0.1),\n",
    "    'colsample_bytree': np.arange(0.7, 1.0, 0.1)\n",
    "}\n",
    "\n",
    "random_search = RandomizedSearchCV(gb, param_distributions=param_grid, n_iter=50, scoring='accuracy', n_jobs=-1, cv=5)\n",
    "\n",
    "random_search.fit(filtered_df_train[features], y)\n",
    "\n",
    "best_params = random_search.best_params_\n",
    "best_model = random_search.best_estimator_\n",
    "\n",
    "print(\"Best Hyperparameters:\")\n",
    "print(best_params)"
   ]
  },
  {
   "cell_type": "code",
   "execution_count": 8,
   "id": "dc61cace",
   "metadata": {},
   "outputs": [
    {
     "name": "stdout",
     "output_type": "stream",
     "text": [
      "Updated Accuracy: 0.7966784978747645\n",
      "Updated Precision: 0.7849428369392488\n"
     ]
    },
    {
     "name": "stderr",
     "output_type": "stream",
     "text": [
      "C:\\Users\\kellyjc\\AppData\\Roaming\\Python\\Python39\\site-packages\\sklearn\\metrics\\_classification.py:1344: UndefinedMetricWarning: Precision is ill-defined and being set to 0.0 in labels with no predicted samples. Use `zero_division` parameter to control this behavior.\n",
      "  _warn_prf(average, modifier, msg_start, len(result))\n"
     ]
    }
   ],
   "source": [
    "X = filtered_df[features]\n",
    "y = le.fit_transform(filtered_df.events)\n",
    "\n",
    "X_train, X_test, y_train, y_test = train_test_split(X, y, test_size=0.2, random_state=1)\n",
    "\n",
    "best_model = XGBClassifier(**best_params)\n",
    "\n",
    "best_model.fit(X_train, y_train)\n",
    "\n",
    "y_pred = best_model.predict(X_test)\n",
    "\n",
    "accuracy = accuracy_score(y_test, y_pred)\n",
    "precision = precision_score(y_test, y_pred, average='weighted')\n",
    "\n",
    "print(\"Updated Accuracy:\", accuracy)\n",
    "print(\"Updated Precision:\", precision)"
   ]
  },
  {
   "cell_type": "code",
   "execution_count": 9,
   "id": "f3c2a63e",
   "metadata": {},
   "outputs": [
    {
     "data": {
      "text/plain": [
       "['models/tuned-model.joblib']"
      ]
     },
     "execution_count": 9,
     "metadata": {},
     "output_type": "execute_result"
    }
   ],
   "source": [
    "joblib.dump(best_model, 'models/tuned-model.joblib')"
   ]
  }
 ],
 "metadata": {
  "kernelspec": {
   "display_name": "Python 3 (ipykernel)",
   "language": "python",
   "name": "python3"
  },
  "language_info": {
   "codemirror_mode": {
    "name": "ipython",
    "version": 3
   },
   "file_extension": ".py",
   "mimetype": "text/x-python",
   "name": "python",
   "nbconvert_exporter": "python",
   "pygments_lexer": "ipython3",
   "version": "3.9.12"
  }
 },
 "nbformat": 4,
 "nbformat_minor": 5
}
